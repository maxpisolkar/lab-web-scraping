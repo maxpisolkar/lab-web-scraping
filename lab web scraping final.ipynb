{
 "cells": [
  {
   "cell_type": "code",
   "execution_count": 7,
   "id": "b2f5fbe2-642a-4786-9c4f-12211300eec0",
   "metadata": {
    "scrolled": true
   },
   "outputs": [],
   "source": [
    "import requests\n",
    "from bs4 import BeautifulSoup\n",
    "from urllib.parse import urljoin\n",
    "import pandas as pd\n",
    "\n",
    "base_url = \"https://books.toscrape.com/catalogue/category/books_1/index.html\"\n",
    "\n",
    "def get_soup(url):\n",
    "    res = requests.get(url)\n",
    "    res.raise_for_status()\n",
    "    return BeautifulSoup(res.text, \"html.parser\")\n",
    "\n",
    "def get_price(book):\n",
    "    price_text = book.find(\"p\", class_=\"price_color\").get_text()\n",
    "    price_clean = ''.join(ch for ch in price_text if ch.isdigit() or ch == '.' or ch == '-')\n",
    "    return float(price_clean)\n",
    "\n",
    "def get_title(soup):\n",
    "    return soup.find(\"h1\").text.strip()\n",
    "\n",
    "def star_rating(book):\n",
    "    rating_tag = book.find(\"p\", class_=\"star-rating\")\n",
    "    classes = rating_tag.get(\"class\", [])\n",
    "    return classes[1] if len(classes) > 1 else \"No rating\"\n",
    "\n",
    "def get_UPC(soup):\n",
    "    table = soup.find(\"table\", class_=\"table table-striped\")\n",
    "    for row in table.find_all(\"tr\"):\n",
    "        if row.find(\"th\").text.strip() == \"UPC\":\n",
    "            return row.find(\"td\").text.strip()\n",
    "    return None\n",
    "\n",
    "def get_genre(soup):\n",
    "    ul = soup.find(\"ul\", class_=\"breadcrumb\")\n",
    "    links = ul.find_all(\"a\")\n",
    "    if len(links) > 2:\n",
    "        return links[2].text.strip()\n",
    "    return None\n",
    "\n",
    "def description(soup):\n",
    "    desc_header = soup.find(\"div\", id=\"product_description\")\n",
    "    if desc_header:\n",
    "        desc_paragraph = desc_header.find_next_sibling(\"p\")\n",
    "        return desc_paragraph.text.strip()\n",
    "    return None\n",
    "\n",
    "def get_book_info(book):\n",
    "    relative_link = book.find(\"h3\").find(\"a\")[\"href\"]\n",
    "    book_url = urljoin(base_url, relative_link)\n",
    "    book_soup = get_soup(book_url)\n",
    "\n",
    "    return {\n",
    "        \"title\": get_title(book_soup),\n",
    "        \"price\": get_price(book),\n",
    "        \"rating\": star_rating(book),\n",
    "        \"UPC\": get_UPC(book_soup),\n",
    "        \"genre\": get_genre(book_soup),\n",
    "        \"description\": description(book_soup),\n",
    "        \"url\": book_url\n",
    "    }\n",
    "\n",
    "def scrape_all_books():\n",
    "    page_url = base_url\n",
    "    all_books = []\n",
    "\n",
    "    while page_url:\n",
    "        soup = get_soup(page_url)\n",
    "        books = soup.select(\"article.product_pod\")\n",
    "\n",
    "        for book in books:\n",
    "            info = get_book_info(book)  \n",
    "            all_books.append(info)\n",
    "\n",
    "        next_btn = soup.select_one(\"li.next a\")\n",
    "        if next_btn:\n",
    "            next_href = next_btn['href']\n",
    "            page_url = urljoin(page_url, next_href)\n",
    "        else:\n",
    "            page_url = None\n",
    "\n",
    "    return all_books\n",
    "\n",
    "# Run the scraper and get all data\n",
    "all_books_data = scrape_all_books()\n"
   ]
  },
  {
   "cell_type": "code",
   "execution_count": 9,
   "id": "2ccee98d-714d-45f7-a1cf-3c986fe85556",
   "metadata": {},
   "outputs": [
    {
     "ename": "NameError",
     "evalue": "name 'df' is not defined",
     "output_type": "error",
     "traceback": [
      "\u001b[1;31m---------------------------------------------------------------------------\u001b[0m",
      "\u001b[1;31mNameError\u001b[0m                                 Traceback (most recent call last)",
      "Cell \u001b[1;32mIn[9], line 1\u001b[0m\n\u001b[1;32m----> 1\u001b[0m \u001b[38;5;28mprint\u001b[39m(\u001b[38;5;124m\"\u001b[39m\u001b[38;5;124mRows in df:\u001b[39m\u001b[38;5;124m\"\u001b[39m, \u001b[38;5;28mlen\u001b[39m(df))\n\u001b[0;32m      2\u001b[0m \u001b[38;5;28mprint\u001b[39m(\u001b[38;5;124m\"\u001b[39m\u001b[38;5;124mColumns:\u001b[39m\u001b[38;5;124m\"\u001b[39m, df\u001b[38;5;241m.\u001b[39mcolumns\u001b[38;5;241m.\u001b[39mtolist())\n",
      "\u001b[1;31mNameError\u001b[0m: name 'df' is not defined"
     ]
    }
   ],
   "source": [
    "print(\"Rows in df:\", len(df))\n",
    "print(\"Columns:\", df.columns.tolist())"
   ]
  },
  {
   "cell_type": "code",
   "execution_count": 11,
   "id": "aecd8252-cd02-49fb-91d5-f6fbd8c8b447",
   "metadata": {},
   "outputs": [
    {
     "name": "stdout",
     "output_type": "stream",
     "text": [
      "Total books scraped: 1000\n"
     ]
    }
   ],
   "source": [
    "print(f\"Total books scraped: {len(all_books_data)}\")\n"
   ]
  },
  {
   "cell_type": "code",
   "execution_count": 17,
   "id": "667f84c8-0621-48fd-b9f0-eb5d09536db0",
   "metadata": {},
   "outputs": [
    {
     "name": "stdout",
     "output_type": "stream",
     "text": [
      "                                   title  price rating               UPC  \\\n",
      "0                   A Light in the Attic  51.77  Three  a897fe39b1053632   \n",
      "1                     Tipping the Velvet  53.74    One  90fa61229261140a   \n",
      "2                             Soumission  50.10    One  6957f44c3847a760   \n",
      "3                          Sharp Objects  47.82   Four  e00eb4fd7b871a48   \n",
      "4  Sapiens: A Brief History of Humankind  54.23   Five  4165285e1663650f   \n",
      "\n",
      "                genre                                        description  \\\n",
      "0              Poetry  It's hard to imagine a world without A Light i...   \n",
      "1  Historical Fiction  \"Erotic and absorbing...Written with starling ...   \n",
      "2             Fiction  Dans une France assez proche de la nÃ´tre, un ...   \n",
      "3             Mystery  WICKED above her hipbone, GIRL across her hear...   \n",
      "4             History  From a renowned historian comes a groundbreaki...   \n",
      "\n",
      "                                                 url  \n",
      "0  https://books.toscrape.com/catalogue/a-light-i...  \n",
      "1  https://books.toscrape.com/catalogue/tipping-t...  \n",
      "2  https://books.toscrape.com/catalogue/soumissio...  \n",
      "3  https://books.toscrape.com/catalogue/sharp-obj...  \n",
      "4  https://books.toscrape.com/catalogue/sapiens-a...  \n",
      "Rows in df: 1000\n",
      "Columns: ['title', 'price', 'rating', 'UPC', 'genre', 'description', 'url']\n"
     ]
    }
   ],
   "source": [
    "df = pd.DataFrame(all_books_data)\n",
    "print(df.head())\n",
    "print(\"Rows in df:\", len(df))\n",
    "print(\"Columns:\", df.columns.tolist())"
   ]
  },
  {
   "cell_type": "code",
   "execution_count": 15,
   "id": "790f839c-221d-4c97-8536-fd2c1475f224",
   "metadata": {},
   "outputs": [
    {
     "name": "stdout",
     "output_type": "stream",
     "text": [
      "                                                 title  price rating  \\\n",
      "3                                        Sharp Objects  47.82   Four   \n",
      "4                Sapiens: A Brief History of Humankind  54.23   Five   \n",
      "6    The Dirty Little Secrets of Getting Your Dream...  33.34   Four   \n",
      "8    The Boys in the Boat: Nine Americans and Their...  22.60   Four   \n",
      "11                               Shakespeare's Sonnets  20.66   Four   \n",
      "..                                                 ...    ...    ...   \n",
      "989                                       Bright Lines  39.07   Five   \n",
      "991                      Bounty (Colorado Mountain #7)  37.26   Four   \n",
      "993  Bleach, Vol. 1: Strawberry and the Soul Reaper...  34.65   Five   \n",
      "996   Ajin: Demi-Human, Volume 1 (Ajin: Demi-Human #1)  57.06   Four   \n",
      "999                 1,000 Places to See Before You Die  26.08   Five   \n",
      "\n",
      "                  UPC           genre  \\\n",
      "3    e00eb4fd7b871a48         Mystery   \n",
      "4    4165285e1663650f         History   \n",
      "6    2597b5a345f45e1b        Business   \n",
      "8    e10e1e165dc8be4a         Default   \n",
      "11   30a7f60cd76ca58c          Poetry   \n",
      "..                ...             ...   \n",
      "989  230ac636ea0ea415         Fiction   \n",
      "991  abc0b15f2c907ff0         Romance   \n",
      "993  099fae4a0705d63b  Sequential Art   \n",
      "996  bfd5e1701c862ac3  Sequential Art   \n",
      "999  228ba5e7577e1d49          Travel   \n",
      "\n",
      "                                           description  \\\n",
      "3    WICKED above her hipbone, GIRL across her hear...   \n",
      "4    From a renowned historian comes a groundbreaki...   \n",
      "6    Drawing on his extensive experience evaluating...   \n",
      "8    For readers of Laura Hillenbrand's Seabiscuit ...   \n",
      "11   This book is an important and complete collect...   \n",
      "..                                                 ...   \n",
      "989  A vibrant debut novel, set in Brooklyn and Ban...   \n",
      "991  Justice Lonesome has enjoyed a life of bounty....   \n",
      "993  Hot-tempered 15-year-old Ichigo Kurosaki, the ...   \n",
      "996  High school student Kei Nagai is struck dead i...   \n",
      "999  Around the World, continent by continent, here...   \n",
      "\n",
      "                                                   url  rating_num  \n",
      "3    https://books.toscrape.com/catalogue/sharp-obj...           4  \n",
      "4    https://books.toscrape.com/catalogue/sapiens-a...           5  \n",
      "6    https://books.toscrape.com/catalogue/the-dirty...           4  \n",
      "8    https://books.toscrape.com/catalogue/the-boys-...           4  \n",
      "11   https://books.toscrape.com/catalogue/shakespea...           4  \n",
      "..                                                 ...         ...  \n",
      "989  https://books.toscrape.com/catalogue/bright-li...           5  \n",
      "991  https://books.toscrape.com/catalogue/bounty-co...           4  \n",
      "993  https://books.toscrape.com/catalogue/bleach-vo...           5  \n",
      "996  https://books.toscrape.com/catalogue/ajin-demi...           4  \n",
      "999  https://books.toscrape.com/catalogue/1000-plac...           5  \n",
      "\n",
      "[300 rows x 8 columns]\n"
     ]
    }
   ],
   "source": [
    "rating_map = {\n",
    "    \"One\": 1,\n",
    "    \"Two\": 2,\n",
    "    \"Three\": 3,\n",
    "    \"Four\": 4,\n",
    "    \"Five\": 5\n",
    "}\n",
    "\n",
    "df[\"rating_num\"] = df[\"rating\"].map(rating_map)\n",
    "\n",
    "filtered_df = df[(df[\"price\"] > 20) & (df[\"rating_num\"] >= 4)]\n",
    "\n",
    "print(filtered_df)\n"
   ]
  },
  {
   "cell_type": "code",
   "execution_count": 19,
   "id": "79385caf-e252-4e93-b8fd-72c245ef292a",
   "metadata": {},
   "outputs": [
    {
     "name": "stdout",
     "output_type": "stream",
     "text": [
      "                                                title  price rating  \\\n",
      "3                                       Sharp Objects  47.82   Four   \n",
      "4               Sapiens: A Brief History of Humankind  54.23   Five   \n",
      "6   The Dirty Little Secrets of Getting Your Dream...  33.34   Four   \n",
      "8   The Boys in the Boat: Nine Americans and Their...  22.60   Four   \n",
      "11                              Shakespeare's Sonnets  20.66   Four   \n",
      "\n",
      "                 UPC     genre  \\\n",
      "3   e00eb4fd7b871a48   Mystery   \n",
      "4   4165285e1663650f   History   \n",
      "6   2597b5a345f45e1b  Business   \n",
      "8   e10e1e165dc8be4a   Default   \n",
      "11  30a7f60cd76ca58c    Poetry   \n",
      "\n",
      "                                          description  \\\n",
      "3   WICKED above her hipbone, GIRL across her hear...   \n",
      "4   From a renowned historian comes a groundbreaki...   \n",
      "6   Drawing on his extensive experience evaluating...   \n",
      "8   For readers of Laura Hillenbrand's Seabiscuit ...   \n",
      "11  This book is an important and complete collect...   \n",
      "\n",
      "                                                  url  rating_num  \n",
      "3   https://books.toscrape.com/catalogue/sharp-obj...           4  \n",
      "4   https://books.toscrape.com/catalogue/sapiens-a...           5  \n",
      "6   https://books.toscrape.com/catalogue/the-dirty...           4  \n",
      "8   https://books.toscrape.com/catalogue/the-boys-...           4  \n",
      "11  https://books.toscrape.com/catalogue/shakespea...           4  \n"
     ]
    }
   ],
   "source": [
    "print(filtered_df.head())"
   ]
  },
  {
   "cell_type": "code",
   "execution_count": null,
   "id": "bd58808b-810d-4a0e-8a38-6d8c12321de8",
   "metadata": {},
   "outputs": [],
   "source": []
  }
 ],
 "metadata": {
  "kernelspec": {
   "display_name": "Python [conda env:base] *",
   "language": "python",
   "name": "conda-base-py"
  },
  "language_info": {
   "codemirror_mode": {
    "name": "ipython",
    "version": 3
   },
   "file_extension": ".py",
   "mimetype": "text/x-python",
   "name": "python",
   "nbconvert_exporter": "python",
   "pygments_lexer": "ipython3",
   "version": "3.12.7"
  }
 },
 "nbformat": 4,
 "nbformat_minor": 5
}
